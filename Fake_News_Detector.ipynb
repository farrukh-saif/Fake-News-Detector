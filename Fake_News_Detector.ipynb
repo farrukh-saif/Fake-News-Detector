{
  "nbformat": 4,
  "nbformat_minor": 0,
  "metadata": {
    "colab": {
      "provenance": [],
      "authorship_tag": "ABX9TyNtFdHZiTFgQYIdGkRq1MzD",
      "include_colab_link": true
    },
    "kernelspec": {
      "name": "python3",
      "display_name": "Python 3"
    },
    "language_info": {
      "name": "python"
    }
  },
  "cells": [
    {
      "cell_type": "markdown",
      "metadata": {
        "id": "view-in-github",
        "colab_type": "text"
      },
      "source": [
        "<a href=\"https://colab.research.google.com/github/farrukh-saif/Fake-News-Detector/blob/main/Fake_News_Detector.ipynb\" target=\"_parent\"><img src=\"https://colab.research.google.com/assets/colab-badge.svg\" alt=\"Open In Colab\"/></a>"
      ]
    },
    {
      "cell_type": "markdown",
      "source": [
        "#Imports"
      ],
      "metadata": {
        "id": "qnfWSytSdKyY"
      }
    },
    {
      "cell_type": "code",
      "source": [
        "import json\n",
        "import tensorflow as tf\n",
        "import numpy as np"
      ],
      "metadata": {
        "id": "1tzgsbI47h2I"
      },
      "execution_count": 1,
      "outputs": []
    },
    {
      "cell_type": "markdown",
      "source": [
        "#Loading Data"
      ],
      "metadata": {
        "id": "Krtbs17gdPKH"
      }
    },
    {
      "cell_type": "code",
      "source": [
        "with open(\"fixed_fake_news.json\", 'r') as f:\n",
        "  datastore = json.load(f)\n",
        "\n",
        "sentences = []\n",
        "labels = []\n",
        "\n",
        "for item in datastore:\n",
        "  sentences.append(item['headline'])\n",
        "  labels.append(item['is_sarcastic'])"
      ],
      "metadata": {
        "id": "d6mK6M3j7nwg"
      },
      "execution_count": 2,
      "outputs": []
    },
    {
      "cell_type": "code",
      "source": [
        "len(sentences), len(labels)"
      ],
      "metadata": {
        "colab": {
          "base_uri": "https://localhost:8080/"
        },
        "id": "2uArMnRc8HNw",
        "outputId": "db3b1518-25fa-4a7f-c94f-a7f5f270c0d2"
      },
      "execution_count": 3,
      "outputs": [
        {
          "output_type": "execute_result",
          "data": {
            "text/plain": [
              "(28619, 28619)"
            ]
          },
          "metadata": {},
          "execution_count": 3
        }
      ]
    },
    {
      "cell_type": "code",
      "source": [
        "trainingSize = 20000"
      ],
      "metadata": {
        "id": "3hDPg7si90gN"
      },
      "execution_count": 4,
      "outputs": []
    },
    {
      "cell_type": "code",
      "source": [
        "trainingSentences = sentences[0:trainingSize]\n",
        "trainingLabels = labels[0:trainingSize]\n",
        "\n",
        "testingSentences = sentences[trainingSize:]\n",
        "testingLabels = labels[trainingSize:]"
      ],
      "metadata": {
        "id": "0EYs2E3Q95kG"
      },
      "execution_count": 5,
      "outputs": []
    },
    {
      "cell_type": "markdown",
      "source": [
        "#Tokenising Corpus"
      ],
      "metadata": {
        "id": "zEI_5zDqdR9w"
      }
    },
    {
      "cell_type": "code",
      "source": [
        "tokenizer = tf.keras.preprocessing.text.Tokenizer(num_words = 40000, oov_token = '<OOV>')\n",
        "tokenizer.fit_on_texts(trainingSentences)\n",
        "len(tokenizer.word_index)"
      ],
      "metadata": {
        "colab": {
          "base_uri": "https://localhost:8080/"
        },
        "id": "tWWwvveD9OFy",
        "outputId": "9e82be9b-2eb2-49fa-ca9d-5f814c46507b"
      },
      "execution_count": 6,
      "outputs": [
        {
          "output_type": "execute_result",
          "data": {
            "text/plain": [
              "25898"
            ]
          },
          "metadata": {},
          "execution_count": 6
        }
      ]
    },
    {
      "cell_type": "markdown",
      "source": [
        "#Converting Sentences To Data"
      ],
      "metadata": {
        "id": "uHLT2MlNdYyZ"
      }
    },
    {
      "cell_type": "code",
      "source": [
        "trainingSequences = tokenizer.texts_to_sequences(trainingSentences)\n",
        "trainingPadded = tf.keras.utils.pad_sequences(trainingSequences, maxlen = 40)\n",
        "\n",
        "testingSequences = tokenizer.texts_to_sequences(testingSentences)\n",
        "testingPadded = tf.keras.utils.pad_sequences(testingSequences, maxlen = 40)"
      ],
      "metadata": {
        "id": "K-MOf4gz-azg"
      },
      "execution_count": 7,
      "outputs": []
    },
    {
      "cell_type": "code",
      "source": [
        "trainingPadded = np.array(trainingPadded)\n",
        "testingPadded = np.array(testingPadded)\n",
        "\n",
        "trainingLabels = np.array(trainingLabels)\n",
        "testingLabels = np.array(testingLabels)"
      ],
      "metadata": {
        "id": "5IKJel81A6F6"
      },
      "execution_count": 8,
      "outputs": []
    },
    {
      "cell_type": "markdown",
      "source": [
        "#Creating Model"
      ],
      "metadata": {
        "id": "_hlOsJUAdhmL"
      }
    },
    {
      "cell_type": "code",
      "source": [
        "model = tf.keras.Sequential([\n",
        "    tf.keras.layers.Embedding(40000, 3, input_length = 40),\n",
        "    tf.keras.layers.GlobalAveragePooling1D(),\n",
        "    tf.keras.layers.Dense(15, activation = 'relu'),\n",
        "    tf.keras.layers.Dense(1, activation = 'sigmoid')\n",
        "])\n",
        "\n",
        "model.compile(loss = 'binary_crossentropy', optimizer = 'adam', metrics = ['accuracy'])"
      ],
      "metadata": {
        "id": "FQGIwPt--6Ug"
      },
      "execution_count": 11,
      "outputs": []
    },
    {
      "cell_type": "markdown",
      "source": [
        "#Training Model"
      ],
      "metadata": {
        "id": "1u7ZUKZJdj30"
      }
    },
    {
      "cell_type": "code",
      "source": [
        "model.fit(trainingPadded, trainingLabels, validation_data=(testingPadded, testingLabels), epochs = 10)"
      ],
      "metadata": {
        "colab": {
          "base_uri": "https://localhost:8080/"
        },
        "id": "dq4ByyPGAC68",
        "outputId": "7c381893-fdc4-4847-dea8-88ff31fdca31"
      },
      "execution_count": 12,
      "outputs": [
        {
          "output_type": "stream",
          "name": "stdout",
          "text": [
            "Epoch 1/10\n",
            "625/625 [==============================] - 4s 5ms/step - loss: 0.6614 - accuracy: 0.6109 - val_loss: 0.5634 - val_accuracy: 0.8094\n",
            "Epoch 2/10\n",
            "625/625 [==============================] - 3s 5ms/step - loss: 0.4336 - accuracy: 0.8434 - val_loss: 0.3894 - val_accuracy: 0.8296\n",
            "Epoch 3/10\n",
            "625/625 [==============================] - 2s 4ms/step - loss: 0.3053 - accuracy: 0.8867 - val_loss: 0.3400 - val_accuracy: 0.8568\n",
            "Epoch 4/10\n",
            "625/625 [==============================] - 3s 5ms/step - loss: 0.2396 - accuracy: 0.9128 - val_loss: 0.3240 - val_accuracy: 0.8622\n",
            "Epoch 5/10\n",
            "625/625 [==============================] - 3s 5ms/step - loss: 0.1921 - accuracy: 0.9320 - val_loss: 0.3234 - val_accuracy: 0.8596\n",
            "Epoch 6/10\n",
            "625/625 [==============================] - 3s 5ms/step - loss: 0.1558 - accuracy: 0.9471 - val_loss: 0.3399 - val_accuracy: 0.8530\n",
            "Epoch 7/10\n",
            "625/625 [==============================] - 2s 4ms/step - loss: 0.1254 - accuracy: 0.9589 - val_loss: 0.3495 - val_accuracy: 0.8552\n",
            "Epoch 8/10\n",
            "625/625 [==============================] - 3s 4ms/step - loss: 0.1012 - accuracy: 0.9683 - val_loss: 0.3636 - val_accuracy: 0.8523\n",
            "Epoch 9/10\n",
            "625/625 [==============================] - 3s 5ms/step - loss: 0.0816 - accuracy: 0.9761 - val_loss: 0.3833 - val_accuracy: 0.8510\n",
            "Epoch 10/10\n",
            "625/625 [==============================] - 2s 4ms/step - loss: 0.0659 - accuracy: 0.9819 - val_loss: 0.4059 - val_accuracy: 0.8468\n"
          ]
        },
        {
          "output_type": "execute_result",
          "data": {
            "text/plain": [
              "<keras.callbacks.History at 0x7faf28cd9bb0>"
            ]
          },
          "metadata": {},
          "execution_count": 12
        }
      ]
    },
    {
      "cell_type": "markdown",
      "source": [
        "#Running Inference"
      ],
      "metadata": {
        "id": "YTqSqSP1dlrF"
      }
    },
    {
      "cell_type": "code",
      "source": [
        "playSentences = ['the planet just crossed another major carbon milestone', \"grandmother doesn't care for new priest\"]\n",
        "\n",
        "playSequences = tokenizer.texts_to_sequences(playSentences)\n",
        "playPadded = tf.keras.utils.pad_sequences(playSequences, maxlen = 40)\n",
        "\n",
        "[ \"Fake\" if (x > 0.5) else \"Real\" for x in model.predict(np.array(playPadded))]"
      ],
      "metadata": {
        "colab": {
          "base_uri": "https://localhost:8080/"
        },
        "id": "dDV8XjPgB_9d",
        "outputId": "3f3456a4-75c9-496e-c0ca-de30f5629909"
      },
      "execution_count": 22,
      "outputs": [
        {
          "output_type": "stream",
          "name": "stdout",
          "text": [
            "1/1 [==============================] - 0s 22ms/step\n"
          ]
        },
        {
          "output_type": "execute_result",
          "data": {
            "text/plain": [
              "['Real', 'Fake']"
            ]
          },
          "metadata": {},
          "execution_count": 22
        }
      ]
    }
  ]
}